{
 "cells": [
  {
   "cell_type": "code",
   "execution_count": 2,
   "metadata": {},
   "outputs": [],
   "source": [
    "import pandas as pd\n",
    "import numpy as np\n",
    "import matplotlib.pyplot as plt"
   ]
  },
  {
   "cell_type": "code",
   "execution_count": 3,
   "metadata": {},
   "outputs": [],
   "source": [
    "ausol_data = pd.read_csv('C:\\\\Users\\\\yhoz\\\\Documents\\\\dataanalytics.predictive\\\\data\\\\ausol\\\\datasets\\\\anual_data_2018.csv', delimiter=\";\")"
   ]
  },
  {
   "cell_type": "code",
   "execution_count": 4,
   "metadata": {},
   "outputs": [
    {
     "name": "stdout",
     "output_type": "stream",
     "text": [
      "<class 'pandas.core.frame.DataFrame'>\n",
      "RangeIndex: 1390512 entries, 0 to 1390511\n",
      "Data columns (total 32 columns):\n",
      "ID_SEGMENT            1390512 non-null int64\n",
      "COD_LABORALIDAD       1390512 non-null int64\n",
      "FECHA                 1390512 non-null object\n",
      "MES                   1390512 non-null int64\n",
      "HORA                  1390512 non-null int64\n",
      "MINUTO                1390512 non-null int64\n",
      "CANTIDAD_PREC         1390512 non-null int64\n",
      "TOTAL_VEHICULOS       1004224 non-null float64\n",
      "TOTAL_VEHICULOS_1     1021224 non-null float64\n",
      "TOTAL_VEHICULOS_2     1025172 non-null float64\n",
      "TOTAL_VEHICULOS_3     1027904 non-null float64\n",
      "TOTAL_VEHICULOS_4     1030663 non-null float64\n",
      "TOTAL_VEHICULOS_5     1032772 non-null float64\n",
      "TOTAL_VEHICULOS_6     1034784 non-null float64\n",
      "TOTAL_VEHICULOS_7     1036365 non-null float64\n",
      "TOTAL_VEHICULOS_8     1037742 non-null float64\n",
      "TOTAL_VEHICULOS_9     1038920 non-null float64\n",
      "TOTAL_VEHICULOS_10    1040093 non-null float64\n",
      "TOTAL_VEHICULOS_11    1041210 non-null float64\n",
      "TOTAL_VEHICULOS_12    1042186 non-null float64\n",
      "TOTAL_VEHICULOS_13    1043079 non-null float64\n",
      "TOTAL_VEHICULOS_14    1044049 non-null float64\n",
      "TOTAL_VEHICULOS_15    1044858 non-null float64\n",
      "TOTAL_VEHICULOS_16    1045788 non-null float64\n",
      "TOTAL_VEHICULOS_17    1046958 non-null float64\n",
      "TOTAL_VEHICULOS_18    1048134 non-null float64\n",
      "TOTAL_VEHICULOS_19    1049552 non-null float64\n",
      "TOTAL_VEHICULOS_20    1052712 non-null float64\n",
      "TOTAL_VEHICULOS_21    1054331 non-null float64\n",
      "TOTAL_VEHICULOS_22    1057160 non-null float64\n",
      "TOTAL_VEHICULOS_23    1061096 non-null float64\n",
      "TOTAL_VEHICULOS_24    1064691 non-null float64\n",
      "dtypes: float64(25), int64(6), object(1)\n",
      "memory usage: 339.5+ MB\n"
     ]
    }
   ],
   "source": [
    "ausol_data.info()"
   ]
  },
  {
   "cell_type": "code",
   "execution_count": 5,
   "metadata": {},
   "outputs": [
    {
     "data": {
      "text/plain": [
       "array([  1,   2,   3,   4,   6,   7,   8,   9,  10,  11,  12,  13,  14,\n",
       "        15,  16,  17,  18,  19,  20,  21,  22,  30,  31,  32,  33,  34,\n",
       "        35,  39,  40,  42,  43, 100, 101, 102, 103, 104, 105, 106, 107],\n",
       "      dtype=int64)"
      ]
     },
     "execution_count": 5,
     "metadata": {},
     "output_type": "execute_result"
    }
   ],
   "source": [
    "ausol_data.ID_SEGMENT.unique()"
   ]
  },
  {
   "cell_type": "code",
   "execution_count": 9,
   "metadata": {},
   "outputs": [
    {
     "data": {
      "text/plain": [
       "array([2018], dtype=int64)"
      ]
     },
     "execution_count": 9,
     "metadata": {},
     "output_type": "execute_result"
    }
   ],
   "source": [
    "ausol_data['FECHA'] = pd.to_datetime(ausol_data['FECHA'])\n",
    "ausol_data.FECHA.dt.year.unique()"
   ]
  },
  {
   "cell_type": "code",
   "execution_count": 10,
   "metadata": {},
   "outputs": [
    {
     "data": {
      "text/plain": [
       "array([4, 3, 1, 2, 6, 5], dtype=int64)"
      ]
     },
     "execution_count": 10,
     "metadata": {},
     "output_type": "execute_result"
    }
   ],
   "source": [
    "ausol_data.COD_LABORALIDAD.unique()"
   ]
  },
  {
   "cell_type": "code",
   "execution_count": 11,
   "metadata": {},
   "outputs": [
    {
     "name": "stdout",
     "output_type": "stream",
     "text": [
      "[4 3 1 2]\n",
      "[1 3 2]\n",
      "[1 3 2 6 4 5]\n",
      "[4 1 2 3 6 5]\n",
      "[4 1 2 3]\n",
      "[2 1 3]\n",
      "[3 1 2]\n",
      "[1 3 6 4 5 2]\n",
      "[3 1 2]\n",
      "[1 4 2 3 6 5]\n",
      "[4 3 5 1 2]\n",
      "[3 4 1 5 6 2]\n"
     ]
    }
   ],
   "source": [
    "# Codigos de laboralidad por mes\n",
    "for month_i in range(1,13):\n",
    "    ausol_data_month = ausol_data.loc[ausol_data.MES==month_i]\n",
    "    print(ausol_data_month.COD_LABORALIDAD.unique())"
   ]
  },
  {
   "cell_type": "code",
   "execution_count": 12,
   "metadata": {},
   "outputs": [
    {
     "data": {
      "text/plain": [
       "386288"
      ]
     },
     "execution_count": 12,
     "metadata": {},
     "output_type": "execute_result"
    }
   ],
   "source": [
    "ausol_data.TOTAL_VEHICULOS.isnull().sum() # sum() to count them"
   ]
  },
  {
   "cell_type": "code",
   "execution_count": 13,
   "metadata": {},
   "outputs": [],
   "source": [
    "ausol_data.TOTAL_VEHICULOS.fillna(method='ffill', inplace=True)"
   ]
  },
  {
   "cell_type": "code",
   "execution_count": 14,
   "metadata": {},
   "outputs": [
    {
     "name": "stdout",
     "output_type": "stream",
     "text": [
      "Month: 1\n",
      "MISSING 0\n",
      "TOTAL 17087252.0\n",
      "Month: 2\n",
      "MISSING 0\n",
      "TOTAL 16500496.0\n",
      "Month: 3\n",
      "MISSING 0\n",
      "TOTAL 25128235.0\n",
      "Month: 4\n",
      "MISSING 0\n",
      "TOTAL 26968599.0\n",
      "Month: 5\n",
      "MISSING 0\n",
      "TOTAL 28608439.0\n",
      "Month: 6\n",
      "MISSING 0\n",
      "TOTAL 26943226.0\n",
      "Month: 7\n",
      "MISSING 0\n",
      "TOTAL 32495549.0\n",
      "Month: 8\n",
      "MISSING 0\n",
      "TOTAL 33798874.0\n",
      "Month: 9\n",
      "MISSING 0\n",
      "TOTAL 27136073.0\n",
      "Month: 10\n",
      "MISSING 0\n",
      "TOTAL 23184407.0\n",
      "Month: 11\n",
      "MISSING 0\n",
      "TOTAL 21520313.0\n",
      "Month: 12\n",
      "MISSING 0\n",
      "TOTAL 18844985.0\n"
     ]
    }
   ],
   "source": [
    "# Missing values por mes\n",
    "for month_i in range(1,13):\n",
    "    ausol_data_month = ausol_data.loc[ausol_data.MES==month_i]\n",
    "    print(\"Month: \" + str(month_i))\n",
    "    print(\"MISSING \"+ str(ausol_data_month.TOTAL_VEHICULOS.isnull().sum()))\n",
    "    print(\"TOTAL \"+ str(ausol_data_month.TOTAL_VEHICULOS.sum()))"
   ]
  },
  {
   "cell_type": "code",
   "execution_count": 15,
   "metadata": {},
   "outputs": [
    {
     "data": {
      "text/plain": [
       "ID_SEGMENT                 0\n",
       "COD_LABORALIDAD            0\n",
       "FECHA                      0\n",
       "MES                        0\n",
       "HORA                       0\n",
       "MINUTO                     0\n",
       "CANTIDAD_PREC              0\n",
       "TOTAL_VEHICULOS            0\n",
       "TOTAL_VEHICULOS_1     369288\n",
       "TOTAL_VEHICULOS_2     365340\n",
       "TOTAL_VEHICULOS_3     362608\n",
       "TOTAL_VEHICULOS_4     359849\n",
       "TOTAL_VEHICULOS_5     357740\n",
       "TOTAL_VEHICULOS_6     355728\n",
       "TOTAL_VEHICULOS_7     354147\n",
       "TOTAL_VEHICULOS_8     352770\n",
       "TOTAL_VEHICULOS_9     351592\n",
       "TOTAL_VEHICULOS_10    350419\n",
       "TOTAL_VEHICULOS_11    349302\n",
       "TOTAL_VEHICULOS_12    348326\n",
       "TOTAL_VEHICULOS_13    347433\n",
       "TOTAL_VEHICULOS_14    346463\n",
       "TOTAL_VEHICULOS_15    345654\n",
       "TOTAL_VEHICULOS_16    344724\n",
       "TOTAL_VEHICULOS_17    343554\n",
       "TOTAL_VEHICULOS_18    342378\n",
       "TOTAL_VEHICULOS_19    340960\n",
       "TOTAL_VEHICULOS_20    337800\n",
       "TOTAL_VEHICULOS_21    336181\n",
       "TOTAL_VEHICULOS_22    333352\n",
       "TOTAL_VEHICULOS_23    329416\n",
       "TOTAL_VEHICULOS_24    325821\n",
       "dtype: int64"
      ]
     },
     "execution_count": 15,
     "metadata": {},
     "output_type": "execute_result"
    }
   ],
   "source": [
    "ausol_data.isnull().sum() # sum() to count them"
   ]
  },
  {
   "cell_type": "code",
   "execution_count": 16,
   "metadata": {},
   "outputs": [],
   "source": [
    "ausol_data = ausol_data.drop_duplicates(['MES','FECHA', 'ID_SEGMENT'], keep='first')"
   ]
  },
  {
   "cell_type": "code",
   "execution_count": 17,
   "metadata": {},
   "outputs": [
    {
     "name": "stdout",
     "output_type": "stream",
     "text": [
      "<class 'pandas.core.frame.DataFrame'>\n",
      "Int64Index: 1366560 entries, 0 to 1390511\n",
      "Data columns (total 32 columns):\n",
      "ID_SEGMENT            1366560 non-null int64\n",
      "COD_LABORALIDAD       1366560 non-null int64\n",
      "FECHA                 1366560 non-null datetime64[ns]\n",
      "MES                   1366560 non-null int64\n",
      "HORA                  1366560 non-null int64\n",
      "MINUTO                1366560 non-null int64\n",
      "CANTIDAD_PREC         1366560 non-null int64\n",
      "TOTAL_VEHICULOS       1366560 non-null float64\n",
      "TOTAL_VEHICULOS_1     997295 non-null float64\n",
      "TOTAL_VEHICULOS_2     1001220 non-null float64\n",
      "TOTAL_VEHICULOS_3     1003952 non-null float64\n",
      "TOTAL_VEHICULOS_4     1006711 non-null float64\n",
      "TOTAL_VEHICULOS_5     1008820 non-null float64\n",
      "TOTAL_VEHICULOS_6     1010832 non-null float64\n",
      "TOTAL_VEHICULOS_7     1012413 non-null float64\n",
      "TOTAL_VEHICULOS_8     1013790 non-null float64\n",
      "TOTAL_VEHICULOS_9     1014968 non-null float64\n",
      "TOTAL_VEHICULOS_10    1016141 non-null float64\n",
      "TOTAL_VEHICULOS_11    1017258 non-null float64\n",
      "TOTAL_VEHICULOS_12    1018234 non-null float64\n",
      "TOTAL_VEHICULOS_13    1019127 non-null float64\n",
      "TOTAL_VEHICULOS_14    1020097 non-null float64\n",
      "TOTAL_VEHICULOS_15    1020906 non-null float64\n",
      "TOTAL_VEHICULOS_16    1021836 non-null float64\n",
      "TOTAL_VEHICULOS_17    1023006 non-null float64\n",
      "TOTAL_VEHICULOS_18    1024182 non-null float64\n",
      "TOTAL_VEHICULOS_19    1025600 non-null float64\n",
      "TOTAL_VEHICULOS_20    1028760 non-null float64\n",
      "TOTAL_VEHICULOS_21    1030379 non-null float64\n",
      "TOTAL_VEHICULOS_22    1033208 non-null float64\n",
      "TOTAL_VEHICULOS_23    1037144 non-null float64\n",
      "TOTAL_VEHICULOS_24    1040739 non-null float64\n",
      "dtypes: datetime64[ns](1), float64(25), int64(6)\n",
      "memory usage: 344.1 MB\n"
     ]
    }
   ],
   "source": [
    "ausol_data.info()"
   ]
  },
  {
   "cell_type": "code",
   "execution_count": 18,
   "metadata": {},
   "outputs": [],
   "source": [
    "ausol_data.to_csv(\"C:\\\\Users\\\\yhoz\\\\Documents\\\\dataanalytics.predictive\\\\data\\\\ausol\\\\datasets\\\\cleaned\\\\anual_data_2018_mod.csv\", sep=';', index=False)"
   ]
  },
  {
   "cell_type": "code",
   "execution_count": 19,
   "metadata": {},
   "outputs": [],
   "source": [
    "ausol_data_mod = pd.read_csv('C:\\\\Users\\\\yhoz\\\\Documents\\\\dataanalytics.predictive\\\\data\\\\ausol\\\\datasets\\\\cleaned\\\\anual_data_2018_mod.csv', delimiter=\";\")"
   ]
  },
  {
   "cell_type": "code",
   "execution_count": 24,
   "metadata": {},
   "outputs": [],
   "source": [
    "# save by month\n",
    "for month_i in range(1,13):\n",
    "    ausol_data_month = ausol_data_mod.loc[ausol_data_mod.MES==month_i]\n",
    "    ausol_data_month.to_csv(\"C:\\\\Users\\\\yhoz\\\\Documents\\\\dataanalytics.predictive\\\\data\\\\ausol\\\\datasets\\\\cleaned\\\\\" + \"{:02d}\".format(month_i) + \"-18.csv\", sep=';', index=False)"
   ]
  },
  {
   "cell_type": "code",
   "execution_count": null,
   "metadata": {},
   "outputs": [],
   "source": []
  }
 ],
 "metadata": {
  "kernelspec": {
   "display_name": "Python 2",
   "language": "python",
   "name": "python2"
  },
  "language_info": {
   "codemirror_mode": {
    "name": "ipython",
    "version": 2
   },
   "file_extension": ".py",
   "mimetype": "text/x-python",
   "name": "python",
   "nbconvert_exporter": "python",
   "pygments_lexer": "ipython2",
   "version": "2.7.15"
  }
 },
 "nbformat": 4,
 "nbformat_minor": 2
}
