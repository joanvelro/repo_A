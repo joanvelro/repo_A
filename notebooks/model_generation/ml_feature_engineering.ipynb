{
 "cells": [
  {
   "cell_type": "markdown",
   "metadata": {},
   "source": [
    "### Feature Engineering\n",
    "\n",
    "En este notebook se utilizan distintas técnicas para aumentar/reducir la dimensionalidad del dataset de entrenamiento\n",
    "\n",
    "Técnicas:\n",
    "    \n",
    "    - PCA: principal component analysis\n",
    "    - GridSearch y ML de ensemble"
   ]
  },
  {
   "cell_type": "markdown",
   "metadata": {},
   "source": [
    "### Load libraries"
   ]
  },
  {
   "cell_type": "markdown",
   "metadata": {},
   "source": [
    "#### Base Imports"
   ]
  },
  {
   "cell_type": "code",
   "execution_count": 2,
   "metadata": {},
   "outputs": [],
   "source": [
    "import pandas as pd\n",
    "#import seaborn as sns\n",
    "import matplotlib.pyplot as plt"
   ]
  },
  {
   "cell_type": "markdown",
   "metadata": {},
   "source": [
    "#### ML imports"
   ]
  },
  {
   "cell_type": "code",
   "execution_count": 3,
   "metadata": {},
   "outputs": [],
   "source": [
    "from sklearn.ensemble import GradientBoostingRegressor, RandomForestRegressor\n",
    "from sklearn.ensemble import BaggingRegressor, AdaBoostRegressor, ExtraTreesRegressor\n",
    "\n",
    "from sklearn.neighbors import KNeighborsRegressor, RadiusNeighborsRegressor\n",
    "from sklearn.tree import DecisionTreeRegressor\n",
    "\n",
    "from sklearn.linear_model import LinearRegression, SGDRegressor\n",
    "from sklearn.linear_model import Ridge, RidgeCV, BayesianRidge\n",
    "from sklearn.linear_model import HuberRegressor, TheilSenRegressor, RANSACRegressor\n",
    "\n",
    "from sklearn.neural_network import MLPRegressor"
   ]
  },
  {
   "cell_type": "code",
   "execution_count": 4,
   "metadata": {},
   "outputs": [],
   "source": [
    "from sklearn.model_selection import train_test_split, GridSearchCV\n",
    "\n",
    "from sklearn.preprocessing import OneHotEncoder, StandardScaler, RobustScaler\n",
    "\n",
    "from sklearn.metrics import mean_squared_error, median_absolute_error, mean_absolute_error\n",
    "from sklearn.metrics import r2_score, explained_variance_score"
   ]
  },
  {
   "cell_type": "markdown",
   "metadata": {},
   "source": [
    "#### ----------------------------> AUSOL ----------------------------------------------------------------------------------------------------------------------------------------------\n",
    "#### ---------------------------------------------------------------------------------------------------------------------------------------------------------------------------------------"
   ]
  },
  {
   "cell_type": "markdown",
   "metadata": {},
   "source": [
    "#### Estudio 0 - Importancia de features sobre un modelo ML optimizado de tipo ensemble"
   ]
  },
  {
   "cell_type": "code",
   "execution_count": null,
   "metadata": {},
   "outputs": [],
   "source": [
    "### --> Base program parameters \n",
    "\n",
    "ml_model_folder = \"C:\\\\Users\\\\yhoz\\\\Documents\\\\dataanalytics.predictive\\\\models\\\\01_horus_traffic_prediction\\\\NORTE_LITORAL\\\\machine_learning\"\n",
    "regr_name = \"extra_trees_2a-6m4c4v4g\"\n",
    "\n",
    "\n",
    "cluster_features = ['ID_SEGMENT']#, 'COD_LABORALIDAD', 'MES']\n",
    "excluded_features = ['TIME','FECHA']\n",
    "forecast_horizon = [15, 60, 120] \n"
   ]
  },
  {
   "cell_type": "code",
   "execution_count": null,
   "metadata": {},
   "outputs": [],
   "source": [
    "# Build the training set dictionary\n",
    "\n",
    "excluded_features.extend(cluster_features)\n",
    "\n",
    "import itertools\n",
    "import copy \n",
    "clusters_codes = [element for element in itertools.product(*list(map(lambda x: train_data[x].unique().tolist(), cluster_features)))]\n",
    "\n",
    "\n",
    "if len(cluster_features)==1:\n",
    "    clusters_codes = [code[0] for code in clusters_codes ]\n",
    "    \n",
    "#print(clusters_codes) \n",
    "\n",
    "training_sets = dict.fromkeys(clusters_codes) # key: expert_code | value: train_set\n",
    "\n",
    "# fill the training sets Python dict\n",
    "for expert_code in training_sets:\n",
    "    df_train = train_data  # restore pandas dataframe\n",
    "\n",
    "    if len(cluster_features)==1:\n",
    "        df_train = df_train.loc[df_train[str(cluster_features[0])]==expert_code]\n",
    "    else:\n",
    "        for key, value in zip(cluster_features, expert_code):\n",
    "            df_train = copy.deepcopy(df_train.loc[df_train[key]==value])\n",
    "    \n",
    "    training_sets[expert_code] = copy.deepcopy(df_train)"
   ]
  },
  {
   "cell_type": "code",
   "execution_count": null,
   "metadata": {},
   "outputs": [],
   "source": [
    "# Model restoring\n",
    "import os\n",
    "import pickle\n",
    "from sklearn.externals import joblib\n",
    "\n",
    "\n",
    "mlmodels_dict = { 'extra_trees_2a-6m4c4v4g':{'is_active': True, 'train_model': True, 'method': ExtraTreesRegressor(min_samples_leaf=10) }, \n",
    "}\n",
    "\n",
    "for regr_name, regr_properties in mlmodels_dict.items():\n",
    "    if regr_properties['is_active']==True:\n",
    "        for cluster_code, trainset in training_sets.items():\n",
    "            for horizon in forecast_horizon:\n",
    "                model_file = regr_name + '_' + str(cluster_code) + '_' + str(horizon) + \".sav\" \n",
    "                model_path = os.path.join(ml_model_folder,regr_name, model_file)\n",
    "                model_file  = pickle.load( open(model_path, \"rb\" ) ) \n",
    "                \n",
    "                mlmodels_dict[regr_name][str(cluster_code) + '_' + str(horizon)] = model_file"
   ]
  },
  {
   "cell_type": "code",
   "execution_count": null,
   "metadata": {},
   "outputs": [],
   "source": [
    "# sanity test\n",
    "mlmodels_dict[regr_name]"
   ]
  },
  {
   "cell_type": "code",
   "execution_count": null,
   "metadata": {},
   "outputs": [],
   "source": [
    "import numpy as np\n",
    "\n",
    "for regr_name, regr_properties in mlmodels_dict.items():\n",
    "    if regr_properties['is_active']==True:\n",
    "        for expert_code, trainset in training_sets.items():\n",
    "            for horizon in forecast_horizon:\n",
    "                \n",
    "                \n",
    "                fet_ind = np.argsort(loaded_model.feature_importances_)[::-1]\n",
    "                fet_imp = loaded_model.feature_importances_[fet_ind]"
   ]
  },
  {
   "cell_type": "markdown",
   "metadata": {},
   "source": [
    "#### Estudio 1 - Importancia de features temporales de segmentos contiguos respecto al segmento de estudio"
   ]
  },
  {
   "cell_type": "code",
   "execution_count": null,
   "metadata": {},
   "outputs": [],
   "source": []
  }
 ],
 "metadata": {
  "kernelspec": {
   "display_name": "Python 3",
   "language": "python",
   "name": "python3"
  },
  "language_info": {
   "codemirror_mode": {
    "name": "ipython",
    "version": 3
   },
   "file_extension": ".py",
   "mimetype": "text/x-python",
   "name": "python",
   "nbconvert_exporter": "python",
   "pygments_lexer": "ipython3",
   "version": "3.6.7"
  }
 },
 "nbformat": 4,
 "nbformat_minor": 2
}
