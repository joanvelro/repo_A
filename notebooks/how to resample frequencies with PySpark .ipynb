{
 "cells": [
  {
   "cell_type": "code",
   "execution_count": 1,
   "metadata": {},
   "outputs": [],
   "source": [
    "from pyspark import SparkContext\n",
    "sc = SparkContext()\n",
    "from pyspark.sql.functions import *\n",
    "from pyspark.sql import SQLContext\n",
    "sqlContext = SQLContext(sc)"
   ]
  },
  {
   "cell_type": "code",
   "execution_count": 3,
   "metadata": {},
   "outputs": [],
   "source": [
    "df = (sqlContext.createDataFrame([(\"2012-06-13\", 0.694),\n",
    "                            (\"2012-06-20\", -2.669),\n",
    "                            (\"2012-06-27\", 0.245)],\n",
    "                             [\"ts\", \"val\"]).withColumn(\"ts\", col(\"ts\").cast(\"date\").cast(\"timestamp\")))"
   ]
  },
  {
   "cell_type": "code",
   "execution_count": 11,
   "metadata": {},
   "outputs": [
    {
     "data": {
      "text/plain": [
       "[Row(ts=datetime.datetime(2012, 6, 13, 0, 0), val=0.694),\n",
       " Row(ts=datetime.datetime(2012, 6, 20, 0, 0), val=-2.669),\n",
       " Row(ts=datetime.datetime(2012, 6, 27, 0, 0), val=0.245)]"
      ]
     },
     "execution_count": 11,
     "metadata": {},
     "output_type": "execute_result"
    }
   ],
   "source": [
    "df.head(5)"
   ]
  },
  {
   "cell_type": "code",
   "execution_count": 6,
   "metadata": {},
   "outputs": [],
   "source": [
    "from pyspark.sql.functions import col, max as max_, min as min_"
   ]
  },
  {
   "cell_type": "code",
   "execution_count": 7,
   "metadata": {},
   "outputs": [],
   "source": [
    "day = 60 * 60 * 24\n",
    "epoch = (col(\"ts\").cast(\"bigint\") / day).cast(\"bigint\") * day\n",
    "\n",
    "with_epoch = df.withColumn(\"epoch\", epoch)\n",
    "\n",
    "min_epoch, max_epoch = with_epoch.select(min_(\"epoch\"), max_(\"epoch\")).first()"
   ]
  },
  {
   "cell_type": "code",
   "execution_count": 9,
   "metadata": {},
   "outputs": [
    {
     "name": "stdout",
     "output_type": "stream",
     "text": [
      "+----------+-------------------+------+-------------------+\n",
      "|epoch     |ts                 |val   |ts_resampled       |\n",
      "+----------+-------------------+------+-------------------+\n",
      "|1339459200|2012-06-13 00:00:00|0.694 |2012-06-12 02:00:00|\n",
      "|1339545600|null               |null  |2012-06-13 02:00:00|\n",
      "|1339632000|null               |null  |2012-06-14 02:00:00|\n",
      "|1339718400|null               |null  |2012-06-15 02:00:00|\n",
      "|1339804800|null               |null  |2012-06-16 02:00:00|\n",
      "|1339891200|null               |null  |2012-06-17 02:00:00|\n",
      "|1339977600|null               |null  |2012-06-18 02:00:00|\n",
      "|1340064000|2012-06-20 00:00:00|-2.669|2012-06-19 02:00:00|\n",
      "|1340150400|null               |null  |2012-06-20 02:00:00|\n",
      "|1340236800|null               |null  |2012-06-21 02:00:00|\n",
      "|1340323200|null               |null  |2012-06-22 02:00:00|\n",
      "|1340409600|null               |null  |2012-06-23 02:00:00|\n",
      "|1340496000|null               |null  |2012-06-24 02:00:00|\n",
      "|1340582400|null               |null  |2012-06-25 02:00:00|\n",
      "|1340668800|2012-06-27 00:00:00|0.245 |2012-06-26 02:00:00|\n",
      "+----------+-------------------+------+-------------------+\n",
      "\n"
     ]
    }
   ],
   "source": [
    "# Reference range \n",
    "ref = sqlContext.range(min_epoch, max_epoch + 1, day).toDF(\"epoch\")\n",
    "\n",
    "(ref.join(with_epoch, \"epoch\", \"left\")\n",
    "    .orderBy(\"epoch\")\n",
    "    .withColumn(\"ts_resampled\", col(\"epoch\").cast(\"timestamp\"))\n",
    "    .show(15, False))"
   ]
  },
  {
   "cell_type": "code",
   "execution_count": null,
   "metadata": {},
   "outputs": [],
   "source": []
  },
  {
   "cell_type": "code",
   "execution_count": null,
   "metadata": {},
   "outputs": [],
   "source": []
  }
 ],
 "metadata": {
  "kernelspec": {
   "display_name": "Python 3",
   "language": "python",
   "name": "python3"
  },
  "language_info": {
   "codemirror_mode": {
    "name": "ipython",
    "version": 3
   },
   "file_extension": ".py",
   "mimetype": "text/x-python",
   "name": "python",
   "nbconvert_exporter": "python",
   "pygments_lexer": "ipython3",
   "version": "3.7.3"
  }
 },
 "nbformat": 4,
 "nbformat_minor": 2
}
