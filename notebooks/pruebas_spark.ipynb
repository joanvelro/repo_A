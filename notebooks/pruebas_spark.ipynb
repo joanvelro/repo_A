{
 "cells": [
  {
   "cell_type": "code",
   "execution_count": 1,
   "metadata": {},
   "outputs": [],
   "source": [
    "from pyspark import SparkContext\n",
    "sc = SparkContext()"
   ]
  },
  {
   "cell_type": "code",
   "execution_count": 2,
   "metadata": {},
   "outputs": [
    {
     "name": "stdout",
     "output_type": "stream",
     "text": [
      "<SparkContext master=local[*] appName=pyspark-shell>\n",
      "2.4.6\n",
      "3.7\n"
     ]
    }
   ],
   "source": [
    "print(sc)\n",
    "print(sc.version)\n",
    "print(sc.pythonVer)"
   ]
  },
  {
   "cell_type": "code",
   "execution_count": 3,
   "metadata": {},
   "outputs": [],
   "source": [
    "from pyspark.sql import SQLContext\n",
    "sqlContext = SQLContext(sc)"
   ]
  },
  {
   "cell_type": "code",
   "execution_count": 4,
   "metadata": {},
   "outputs": [],
   "source": [
    "from pyspark.sql.functions import *"
   ]
  },
  {
   "cell_type": "code",
   "execution_count": 5,
   "metadata": {},
   "outputs": [],
   "source": [
    "data_path = '/Volumes/HDD/Data/clarence/RFA/2018/01/*.csv'"
   ]
  },
  {
   "cell_type": "code",
   "execution_count": 6,
   "metadata": {},
   "outputs": [],
   "source": [
    "data = sqlContext.read.format(\"com.databricks.spark.csv\").options(header = True, inferSchema = True, sep=',', line_terminator='\\n').load(path=data_path)"
   ]
  },
  {
   "cell_type": "code",
   "execution_count": 7,
   "metadata": {},
   "outputs": [
    {
     "name": "stdout",
     "output_type": "stream",
     "text": [
      "root\n",
      " |-- log_time: timestamp (nullable = true)\n",
      " |-- detector_id: integer (nullable = true)\n",
      " |-- detector_id-name: string (nullable = true)\n",
      " |-- occupancy: integer (nullable = true)\n",
      " |-- norm_occupancy: integer (nullable = true)\n",
      " |-- volume: integer (nullable = true)\n",
      " |-- norm_volume: integer (nullable = true)\n",
      " |-- speed_obs: integer (nullable = true)\n",
      " |-- speed_sum: integer (nullable = true)\n",
      " |-- configuration_id: integer (nullable = true)\n",
      " |-- configuration_id-name: string (nullable = true)\n",
      " |-- available: integer (nullable = true)\n",
      " |-- incident: integer (nullable = true)\n",
      " |-- failed: integer (nullable = true)\n",
      " |-- length_normalised: integer (nullable = true)\n",
      " |-- distance_normalised: integer (nullable = true)\n",
      " |-- last_modified: timestamp (nullable = true)\n",
      "\n"
     ]
    }
   ],
   "source": [
    "data.printSchema()"
   ]
  },
  {
   "cell_type": "code",
   "execution_count": 8,
   "metadata": {},
   "outputs": [
    {
     "data": {
      "text/plain": [
       "53172386"
      ]
     },
     "execution_count": 8,
     "metadata": {},
     "output_type": "execute_result"
    }
   ],
   "source": [
    "data.count()"
   ]
  },
  {
   "cell_type": "code",
   "execution_count": 9,
   "metadata": {},
   "outputs": [],
   "source": [
    "data.createOrReplaceTempView(\"data_view\")"
   ]
  },
  {
   "cell_type": "code",
   "execution_count": 10,
   "metadata": {},
   "outputs": [],
   "source": [
    "data.registerTempTable(\"data\")"
   ]
  },
  {
   "cell_type": "code",
   "execution_count": 13,
   "metadata": {},
   "outputs": [],
   "source": [
    "df = sqlContext.table(\"data\")"
   ]
  },
  {
   "cell_type": "code",
   "execution_count": 14,
   "metadata": {},
   "outputs": [
    {
     "data": {
      "text/plain": [
       "[Row(log_time=datetime.datetime(2018, 1, 1, 0, 0), detector_id=545283, detector_id-name='EN01050VDD07', occupancy=0, norm_occupancy=0, volume=0, norm_volume=0, speed_obs=0, speed_sum=0, configuration_id=7071, configuration_id-name='Non Tidal', available=1, incident=0, failed=1, length_normalised=1, distance_normalised=1, last_modified=datetime.datetime(2018, 1, 1, 0, 1, 13)),\n",
       " Row(log_time=datetime.datetime(2018, 1, 1, 0, 0), detector_id=545285, detector_id-name='EN01050VDD08', occupancy=0, norm_occupancy=0, volume=0, norm_volume=0, speed_obs=0, speed_sum=0, configuration_id=7071, configuration_id-name='Non Tidal', available=1, incident=0, failed=1, length_normalised=1, distance_normalised=1, last_modified=datetime.datetime(2018, 1, 1, 0, 1, 13)),\n",
       " Row(log_time=datetime.datetime(2018, 1, 1, 0, 0), detector_id=545288, detector_id-name='EN01050VDD09', occupancy=0, norm_occupancy=0, volume=0, norm_volume=0, speed_obs=0, speed_sum=0, configuration_id=7071, configuration_id-name='Non Tidal', available=1, incident=0, failed=1, length_normalised=1, distance_normalised=1, last_modified=datetime.datetime(2018, 1, 1, 0, 1, 13)),\n",
       " Row(log_time=datetime.datetime(2018, 1, 1, 0, 0), detector_id=545290, detector_id-name='EN01050VDD10', occupancy=0, norm_occupancy=0, volume=0, norm_volume=0, speed_obs=0, speed_sum=0, configuration_id=7071, configuration_id-name='Non Tidal', available=1, incident=0, failed=1, length_normalised=1, distance_normalised=1, last_modified=datetime.datetime(2018, 1, 1, 0, 1, 13)),\n",
       " Row(log_time=datetime.datetime(2018, 1, 1, 0, 0), detector_id=545292, detector_id-name='EN01050VDD11', occupancy=0, norm_occupancy=0, volume=0, norm_volume=0, speed_obs=0, speed_sum=0, configuration_id=7071, configuration_id-name='Non Tidal', available=1, incident=0, failed=1, length_normalised=1, distance_normalised=1, last_modified=datetime.datetime(2018, 1, 1, 0, 1, 13))]"
      ]
     },
     "execution_count": 14,
     "metadata": {},
     "output_type": "execute_result"
    }
   ],
   "source": [
    "df.head(5)"
   ]
  },
  {
   "cell_type": "code",
   "execution_count": 15,
   "metadata": {},
   "outputs": [
    {
     "name": "stdout",
     "output_type": "stream",
     "text": [
      "+-------------------+\n",
      "|           log_time|\n",
      "+-------------------+\n",
      "|2018-01-01 00:00:00|\n",
      "|2018-01-01 00:00:00|\n",
      "|2018-01-01 00:00:00|\n",
      "|2018-01-01 00:00:00|\n",
      "|2018-01-01 00:00:00|\n",
      "|2018-01-01 00:00:00|\n",
      "|2018-01-01 00:00:00|\n",
      "|2018-01-01 00:00:00|\n",
      "|2018-01-01 00:00:00|\n",
      "|2018-01-01 00:00:00|\n",
      "|2018-01-01 00:00:00|\n",
      "|2018-01-01 00:00:00|\n",
      "|2018-01-01 00:00:00|\n",
      "|2018-01-01 00:00:00|\n",
      "|2018-01-01 00:00:00|\n",
      "|2018-01-01 00:00:00|\n",
      "|2018-01-01 00:00:00|\n",
      "|2018-01-01 00:00:00|\n",
      "|2018-01-01 00:00:00|\n",
      "|2018-01-01 00:00:00|\n",
      "+-------------------+\n",
      "only showing top 20 rows\n",
      "\n"
     ]
    }
   ],
   "source": [
    "df.select(\"log_time\").show()"
   ]
  },
  {
   "cell_type": "code",
   "execution_count": 16,
   "metadata": {},
   "outputs": [],
   "source": [
    "df.write.saveAsTable('df_apl_original', mode ='overwrite')"
   ]
  },
  {
   "cell_type": "code",
   "execution_count": 17,
   "metadata": {},
   "outputs": [
    {
     "name": "stdout",
     "output_type": "stream",
     "text": [
      "+-------------------+-----------+----------------+---------+--------------+------+-----------+---------+---------+----------------+---------------------+---------+--------+------+-----------------+-------------------+-------------------+\n",
      "|           log_time|detector_id|detector_id-name|occupancy|norm_occupancy|volume|norm_volume|speed_obs|speed_sum|configuration_id|configuration_id-name|available|incident|failed|length_normalised|distance_normalised|      last_modified|\n",
      "+-------------------+-----------+----------------+---------+--------------+------+-----------+---------+---------+----------------+---------------------+---------+--------+------+-----------------+-------------------+-------------------+\n",
      "|2018-01-01 00:00:00|     545283|    EN01050VDD07|        0|             0|     0|          0|        0|        0|            7071|            Non Tidal|        1|       0|     1|                1|                  1|2018-01-01 00:01:13|\n",
      "|2018-01-01 00:00:00|     545285|    EN01050VDD08|        0|             0|     0|          0|        0|        0|            7071|            Non Tidal|        1|       0|     1|                1|                  1|2018-01-01 00:01:13|\n",
      "|2018-01-01 00:00:00|     545288|    EN01050VDD09|        0|             0|     0|          0|        0|        0|            7071|            Non Tidal|        1|       0|     1|                1|                  1|2018-01-01 00:01:13|\n",
      "|2018-01-01 00:00:00|     545290|    EN01050VDD10|        0|             0|     0|          0|        0|        0|            7071|            Non Tidal|        1|       0|     1|                1|                  1|2018-01-01 00:01:13|\n",
      "|2018-01-01 00:00:00|     545292|    EN01050VDD11|        0|             0|     0|          0|        0|        0|            7071|            Non Tidal|        1|       0|     1|                1|                  1|2018-01-01 00:01:13|\n",
      "|2018-01-01 00:00:00|     545294|    EN01050VDD12|        0|             0|     0|          0|        0|        0|            7071|            Non Tidal|        1|       0|     1|                1|                  1|2018-01-01 00:01:13|\n",
      "|2018-01-01 00:00:00|     545297|    EN03610VDD01|        1|             0|     1|          1|        0|        0|            7071|            Non Tidal|        1|       0|     0|                1|                  1|2018-01-01 00:01:13|\n",
      "|2018-01-01 00:00:00|     545299|    EN03610VDD02|        0|             0|     0|          0|        0|        0|            7071|            Non Tidal|        1|       0|     1|                1|                  1|2018-01-01 00:01:13|\n",
      "|2018-01-01 00:00:00|     545301|    EN03610VDD03|        0|             0|     0|          0|        0|        0|            7071|            Non Tidal|        1|       0|     1|                1|                  1|2018-01-01 00:01:13|\n",
      "|2018-01-01 00:00:00|     545304|    EN03610VDD04|        0|             0|     0|          0|        0|        0|            7071|            Non Tidal|        1|       0|     1|                1|                  1|2018-01-01 00:01:13|\n",
      "|2018-01-01 00:00:00|     545306|    EN05810VDD01|        0|             0|     0|          0|        0|        0|            7071|            Non Tidal|        1|       0|     1|                1|                  1|2018-01-01 00:01:13|\n",
      "|2018-01-01 00:00:00|     545308|    EN05810VDD02|        0|             0|     0|          0|        0|        0|            7071|            Non Tidal|        1|       0|     1|                1|                  1|2018-01-01 00:01:13|\n",
      "|2018-01-01 00:00:00|     545314|    EN05810VDD03|        0|             0|     0|          0|        0|        0|            7071|            Non Tidal|        1|       0|     1|                1|                  1|2018-01-01 00:01:13|\n",
      "|2018-01-01 00:00:00|     545316|    EN05810VDD04|       36|             3|     9|          9|        0|        0|            7071|            Non Tidal|        1|       0|     0|                1|                  1|2018-01-01 00:01:13|\n",
      "|2018-01-01 00:00:00|     545318|    EN05810VDD05|        0|             0|     0|          0|        0|        0|            7071|            Non Tidal|        1|       0|     1|                1|                  1|2018-01-01 00:01:13|\n",
      "|2018-01-01 00:00:00|     545322|    EN05810VDD06|        0|             0|     0|          0|        0|        0|            7071|            Non Tidal|        1|       0|     1|                1|                  1|2018-01-01 00:01:13|\n",
      "|2018-01-01 00:00:00|     545324|    EN07960VDD01|        0|             0|     0|          0|        0|        0|            7071|            Non Tidal|        1|       0|     1|                1|                  1|2018-01-01 00:01:13|\n",
      "|2018-01-01 00:00:00|     545326|    EN07960VDD02|        0|             0|     0|          0|        0|        0|            7071|            Non Tidal|        1|       0|     1|                1|                  1|2018-01-01 00:01:13|\n",
      "|2018-01-01 00:00:00|     545329|    EN07960VDD03|        0|             0|     0|          0|        0|        0|            7071|            Non Tidal|        1|       0|     1|                1|                  1|2018-01-01 00:01:13|\n",
      "|2018-01-01 00:00:00|     545331|    EN07960VDD04|        0|             0|     0|          0|        0|        0|            7071|            Non Tidal|        1|       0|     1|                1|                  1|2018-01-01 00:01:13|\n",
      "+-------------------+-----------+----------------+---------+--------------+------+-----------+---------+---------+----------------+---------------------+---------+--------+------+-----------------+-------------------+-------------------+\n",
      "only showing top 20 rows\n",
      "\n"
     ]
    }
   ],
   "source": [
    "sqlContext.sql(\"SELECT * FROM data\").show()"
   ]
  },
  {
   "cell_type": "code",
   "execution_count": null,
   "metadata": {},
   "outputs": [],
   "source": []
  }
 ],
 "metadata": {
  "@webio": {
   "lastCommId": null,
   "lastKernelId": null
  },
  "kernelspec": {
   "display_name": "Python 3",
   "language": "python",
   "name": "python3"
  },
  "language_info": {
   "codemirror_mode": {
    "name": "ipython",
    "version": 3
   },
   "file_extension": ".py",
   "mimetype": "text/x-python",
   "name": "python",
   "nbconvert_exporter": "python",
   "pygments_lexer": "ipython3",
   "version": "3.7.3"
  }
 },
 "nbformat": 4,
 "nbformat_minor": 2
}
