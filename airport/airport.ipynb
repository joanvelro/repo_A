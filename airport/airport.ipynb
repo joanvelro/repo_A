{
 "cells": [
  {
   "cell_type": "code",
   "execution_count": 1,
   "metadata": {},
   "outputs": [],
   "source": [
    "import pandas as pd\n",
    "import numpy as np\n",
    "import matplotlib.pyplot as plt\n",
    "from sklearn.preprocessing import LabelEncoder\n",
    "from matplotlib import pyplot as plt"
   ]
  },
  {
   "cell_type": "markdown",
   "metadata": {},
   "source": [
    "# ABPC"
   ]
  },
  {
   "cell_type": "code",
   "execution_count": 2,
   "metadata": {},
   "outputs": [],
   "source": [
    "abpc = pd.read_csv('D:\\\\Usuarios\\\\mdbrenes\\\\Documents\\\\Projects\\\\airport\\\\Documentos TT\\\\Datos de entrada\\\\ABPC\\\\abpc_2018-01-01.csv', delimiter=';', names=['ID','FLIGHTID','LECTOR ID','CHECK DATE','STATUS','REASON','CHECKIN SEQUENCE NUMBER','PNR','DEPARTURE FLIGHT DESTINATION AIRPORT IATA CODE','DEPARTURE FLIGHT AIRLINE IATA CODE','DEPARTURE FLIGHT NUMBER','DEPARTURE FLIGHT SOBT'])"
   ]
  },
  {
   "cell_type": "code",
   "execution_count": 3,
   "metadata": {},
   "outputs": [
    {
     "name": "stdout",
     "output_type": "stream",
     "text": [
      "<class 'pandas.core.frame.DataFrame'>\n",
      "RangeIndex: 13784 entries, 0 to 13783\n",
      "Data columns (total 12 columns):\n",
      "ID                                                13784 non-null int64\n",
      "FLIGHTID                                          13784 non-null int64\n",
      "LECTOR ID                                         13784 non-null object\n",
      "CHECK DATE                                        13784 non-null object\n",
      "STATUS                                            13784 non-null object\n",
      "REASON                                            294 non-null object\n",
      "CHECKIN SEQUENCE NUMBER                           13784 non-null object\n",
      "PNR                                               13777 non-null object\n",
      "DEPARTURE FLIGHT DESTINATION AIRPORT IATA CODE    13784 non-null object\n",
      "DEPARTURE FLIGHT AIRLINE IATA CODE                13784 non-null object\n",
      "DEPARTURE FLIGHT NUMBER                           13784 non-null int64\n",
      "DEPARTURE FLIGHT SOBT                             13784 non-null object\n",
      "dtypes: int64(3), object(9)\n",
      "memory usage: 1.3+ MB\n"
     ]
    }
   ],
   "source": [
    "abpc.info()"
   ]
  },
  {
   "cell_type": "code",
   "execution_count": 26,
   "metadata": {},
   "outputs": [
    {
     "data": {
      "text/html": [
       "<div>\n",
       "<style scoped>\n",
       "    .dataframe tbody tr th:only-of-type {\n",
       "        vertical-align: middle;\n",
       "    }\n",
       "\n",
       "    .dataframe tbody tr th {\n",
       "        vertical-align: top;\n",
       "    }\n",
       "\n",
       "    .dataframe thead th {\n",
       "        text-align: right;\n",
       "    }\n",
       "</style>\n",
       "<table border=\"1\" class=\"dataframe\">\n",
       "  <thead>\n",
       "    <tr style=\"text-align: right;\">\n",
       "      <th></th>\n",
       "      <th>ID</th>\n",
       "      <th>FLIGHTID</th>\n",
       "      <th>LECTOR ID</th>\n",
       "      <th>CHECK DATE</th>\n",
       "      <th>STATUS</th>\n",
       "      <th>REASON</th>\n",
       "      <th>CHECKIN SEQUENCE NUMBER</th>\n",
       "      <th>PNR</th>\n",
       "      <th>DEPARTURE FLIGHT DESTINATION AIRPORT IATA CODE</th>\n",
       "      <th>DEPARTURE FLIGHT AIRLINE IATA CODE</th>\n",
       "      <th>DEPARTURE FLIGHT NUMBER</th>\n",
       "      <th>DEPARTURE FLIGHT SOBT</th>\n",
       "      <th>DWELL TIME</th>\n",
       "    </tr>\n",
       "  </thead>\n",
       "  <tbody>\n",
       "    <tr>\n",
       "      <th>0</th>\n",
       "      <td>9223629</td>\n",
       "      <td>9211112</td>\n",
       "      <td>aia-abpc-abg014</td>\n",
       "      <td>2018-01-01 00:12:00</td>\n",
       "      <td>0</td>\n",
       "      <td>NaN</td>\n",
       "      <td>0082</td>\n",
       "      <td>VADYGL</td>\n",
       "      <td>0082</td>\n",
       "      <td>A3</td>\n",
       "      <td>610</td>\n",
       "      <td>2018-01-01 06:35:00</td>\n",
       "      <td>6.383333</td>\n",
       "    </tr>\n",
       "    <tr>\n",
       "      <th>1</th>\n",
       "      <td>9223630</td>\n",
       "      <td>9211112</td>\n",
       "      <td>aia-abpc-abg015</td>\n",
       "      <td>2018-01-01 00:12:00</td>\n",
       "      <td>0</td>\n",
       "      <td>NaN</td>\n",
       "      <td>0061</td>\n",
       "      <td>VADYGL</td>\n",
       "      <td>0061</td>\n",
       "      <td>A3</td>\n",
       "      <td>610</td>\n",
       "      <td>2018-01-01 06:35:00</td>\n",
       "      <td>6.383333</td>\n",
       "    </tr>\n",
       "    <tr>\n",
       "      <th>2</th>\n",
       "      <td>9223631</td>\n",
       "      <td>9203297</td>\n",
       "      <td>aia-abpc-wks006</td>\n",
       "      <td>2018-01-01 00:49:00</td>\n",
       "      <td>0</td>\n",
       "      <td>NaN</td>\n",
       "      <td>0041</td>\n",
       "      <td>MFTBYC</td>\n",
       "      <td>0041</td>\n",
       "      <td>A3</td>\n",
       "      <td>926</td>\n",
       "      <td>2018-01-01 05:30:00</td>\n",
       "      <td>4.683333</td>\n",
       "    </tr>\n",
       "    <tr>\n",
       "      <th>3</th>\n",
       "      <td>9223632</td>\n",
       "      <td>9203297</td>\n",
       "      <td>aia-abpc-wks006</td>\n",
       "      <td>2018-01-01 00:49:00</td>\n",
       "      <td>0</td>\n",
       "      <td>NaN</td>\n",
       "      <td>0040</td>\n",
       "      <td>MFTBYC</td>\n",
       "      <td>0040</td>\n",
       "      <td>A3</td>\n",
       "      <td>926</td>\n",
       "      <td>2018-01-01 05:30:00</td>\n",
       "      <td>4.683333</td>\n",
       "    </tr>\n",
       "    <tr>\n",
       "      <th>4</th>\n",
       "      <td>9223633</td>\n",
       "      <td>9203275</td>\n",
       "      <td>aia-abpc-abg002</td>\n",
       "      <td>2018-01-01 01:23:00</td>\n",
       "      <td>0</td>\n",
       "      <td>NaN</td>\n",
       "      <td>0041</td>\n",
       "      <td>DAJYGW</td>\n",
       "      <td>0041</td>\n",
       "      <td>AZ</td>\n",
       "      <td>717</td>\n",
       "      <td>2018-01-01 03:55:00</td>\n",
       "      <td>2.533333</td>\n",
       "    </tr>\n",
       "  </tbody>\n",
       "</table>\n",
       "</div>"
      ],
      "text/plain": [
       "        ID  FLIGHTID        LECTOR ID           CHECK DATE  STATUS REASON  \\\n",
       "0  9223629   9211112  aia-abpc-abg014  2018-01-01 00:12:00       0    NaN   \n",
       "1  9223630   9211112  aia-abpc-abg015  2018-01-01 00:12:00       0    NaN   \n",
       "2  9223631   9203297  aia-abpc-wks006  2018-01-01 00:49:00       0    NaN   \n",
       "3  9223632   9203297  aia-abpc-wks006  2018-01-01 00:49:00       0    NaN   \n",
       "4  9223633   9203275  aia-abpc-abg002  2018-01-01 01:23:00       0    NaN   \n",
       "\n",
       "  CHECKIN SEQUENCE NUMBER     PNR  \\\n",
       "0                    0082  VADYGL   \n",
       "1                    0061  VADYGL   \n",
       "2                    0041  MFTBYC   \n",
       "3                    0040  MFTBYC   \n",
       "4                    0041  DAJYGW   \n",
       "\n",
       "  DEPARTURE FLIGHT DESTINATION AIRPORT IATA CODE  \\\n",
       "0                                           0082   \n",
       "1                                           0061   \n",
       "2                                           0041   \n",
       "3                                           0040   \n",
       "4                                           0041   \n",
       "\n",
       "  DEPARTURE FLIGHT AIRLINE IATA CODE  DEPARTURE FLIGHT NUMBER  \\\n",
       "0                                 A3                      610   \n",
       "1                                 A3                      610   \n",
       "2                                 A3                      926   \n",
       "3                                 A3                      926   \n",
       "4                                 AZ                      717   \n",
       "\n",
       "  DEPARTURE FLIGHT SOBT  DWELL TIME  \n",
       "0   2018-01-01 06:35:00    6.383333  \n",
       "1   2018-01-01 06:35:00    6.383333  \n",
       "2   2018-01-01 05:30:00    4.683333  \n",
       "3   2018-01-01 05:30:00    4.683333  \n",
       "4   2018-01-01 03:55:00    2.533333  "
      ]
     },
     "execution_count": 26,
     "metadata": {},
     "output_type": "execute_result"
    }
   ],
   "source": [
    "abpc.head()"
   ]
  },
  {
   "cell_type": "code",
   "execution_count": 21,
   "metadata": {},
   "outputs": [
    {
     "data": {
      "text/plain": [
       "0"
      ]
     },
     "execution_count": 21,
     "metadata": {},
     "output_type": "execute_result"
    }
   ],
   "source": [
    "abpc.loc[abpc['STATUS']!=0]['REASON'].values.sum()"
   ]
  },
  {
   "cell_type": "code",
   "execution_count": 22,
   "metadata": {},
   "outputs": [
    {
     "data": {
      "text/plain": [
       "array([nan, nan, nan, ..., nan, nan, nan], dtype=object)"
      ]
     },
     "execution_count": 22,
     "metadata": {},
     "output_type": "execute_result"
    }
   ],
   "source": [
    "abpc.loc[abpc['STATUS']==0]['REASON'].values"
   ]
  },
  {
   "cell_type": "code",
   "execution_count": 23,
   "metadata": {},
   "outputs": [
    {
     "data": {
      "text/plain": [
       "array([0], dtype=int64)"
      ]
     },
     "execution_count": 23,
     "metadata": {},
     "output_type": "execute_result"
    }
   ],
   "source": [
    "#abpc['STATUS'].loc[abpc['STATUS']!='PASSED'].values\n",
    "abpc['STATUS'].unique()"
   ]
  },
  {
   "cell_type": "code",
   "execution_count": 24,
   "metadata": {},
   "outputs": [
    {
     "data": {
      "text/plain": [
       "array([nan, 'FastTrackIndicatorRequiredAccept', 'PaxAlreadyPassedAccept',\n",
       "       'InvalidFlightStateAccept', 'InvalidDateAccept'], dtype=object)"
      ]
     },
     "execution_count": 24,
     "metadata": {},
     "output_type": "execute_result"
    }
   ],
   "source": [
    "abpc['REASON'].unique()"
   ]
  },
  {
   "cell_type": "code",
   "execution_count": 29,
   "metadata": {},
   "outputs": [
    {
     "data": {
      "text/plain": [
       "0"
      ]
     },
     "execution_count": 29,
     "metadata": {},
     "output_type": "execute_result"
    }
   ],
   "source": [
    "abpc['CHECK DATE'].isnull().sum()"
   ]
  },
  {
   "cell_type": "markdown",
   "metadata": {},
   "source": [
    "### Preprocesamiento de datos"
   ]
  },
  {
   "cell_type": "code",
   "execution_count": 25,
   "metadata": {},
   "outputs": [],
   "source": [
    "# Encode Categorycal Variables\n",
    "\n",
    "# STATUS\n",
    "\n",
    "labelencoder_X = LabelEncoder()\n",
    "abpc.iloc[:, 4] = labelencoder_X.fit_transform(abpc.iloc[:, 4])\n",
    "\n",
    "# 0 PASSED\n",
    "# 1 NOT PASSED"
   ]
  },
  {
   "cell_type": "code",
   "execution_count": 12,
   "metadata": {},
   "outputs": [],
   "source": [
    "# Dates to Datetime\n",
    "\n",
    "# Check-Date\n",
    "date_check = pd.to_datetime(abpc['CHECK DATE'],format = '%d/%m/%Y %H:%M')\n",
    "abpc['CHECK DATE']=date_check.map(lambda x: x.strftime('%Y-%m-%d %H:%M:%S'))\n",
    "\n",
    "# Departure Date\n",
    "date_dep = pd.to_datetime(abpc['DEPARTURE FLIGHT SOBT'],format = '%d/%m/%Y %H:%M')\n",
    "abpc['DEPARTURE FLIGHT SOBT']=date_dep.map(lambda x: x.strftime('%Y-%m-%d %H:%M:%S'))\n",
    "\n",
    "# Adding a variable: Dwell Time (Check - Departure)\n",
    "\n",
    "# Dwell Time\n",
    "dwell_time = date_dep - date_check\n",
    "abpc['DWELL TIME'] = dwell_time.map(lambda x: x.total_seconds()/3600)"
   ]
  },
  {
   "cell_type": "code",
   "execution_count": 31,
   "metadata": {},
   "outputs": [],
   "source": [
    "abpc['DWELL HOUR'] = abpc['DWELL TIME'].map(lambda x: int(x))\n",
    "\n",
    "abpc['DWELL MIN'] = abpc['DWELL TIME'].map(lambda x: (x-int(x))*60)\n",
    "\n",
    "abpc.reset_index(inplace=True,drop='True')\n",
    "\n",
    "dwtime = []\n",
    "counts = []\n",
    "for dwt in abpc['DWELL TIME'].loc[pd.isna(abpc['REASON'])].unique(): # Cogemos los de razones nulas\n",
    "    num = list(abpc['DWELL TIME']).count(dwt)\n",
    "    dwtime.append(dwt)\n",
    "    counts.append(num)"
   ]
  },
  {
   "cell_type": "code",
   "execution_count": 32,
   "metadata": {},
   "outputs": [
    {
     "data": {
      "text/plain": [
       "<matplotlib.collections.PathCollection at 0x2c8bbb7b6d8>"
      ]
     },
     "execution_count": 32,
     "metadata": {},
     "output_type": "execute_result"
    },
    {
     "data": {
      "image/png": "[encoded data removed]",
      "text/plain": [
       "<Figure size 432x288 with 1 Axes>"
      ]
     },
     "metadata": {
      "needs_background": "light"
     },
     "output_type": "display_data"
    }
   ],
   "source": [
    "plt.scatter(dwtime,counts)"
   ]
  },
  {
   "cell_type": "code",
   "execution_count": 33,
   "metadata": {},
   "outputs": [
    {
     "data": {
      "text/html": [
       "<div>\n",
       "<style scoped>\n",
       "    .dataframe tbody tr th:only-of-type {\n",
       "        vertical-align: middle;\n",
       "    }\n",
       "\n",
       "    .dataframe tbody tr th {\n",
       "        vertical-align: top;\n",
       "    }\n",
       "\n",
       "    .dataframe thead th {\n",
       "        text-align: right;\n",
       "    }\n",
       "</style>\n",
       "<table border=\"1\" class=\"dataframe\">\n",
       "  <thead>\n",
       "    <tr style=\"text-align: right;\">\n",
       "      <th></th>\n",
       "      <th>ID</th>\n",
       "      <th>FLIGHTID</th>\n",
       "      <th>LECTOR ID</th>\n",
       "      <th>CHECK DATE</th>\n",
       "      <th>STATUS</th>\n",
       "      <th>REASON</th>\n",
       "      <th>CHECKIN SEQUENCE NUMBER</th>\n",
       "      <th>PNR</th>\n",
       "      <th>DEPARTURE FLIGHT DESTINATION AIRPORT IATA CODE</th>\n",
       "      <th>DEPARTURE FLIGHT AIRLINE IATA CODE</th>\n",
       "      <th>DEPARTURE FLIGHT NUMBER</th>\n",
       "      <th>DEPARTURE FLIGHT SOBT</th>\n",
       "      <th>DWELL TIME</th>\n",
       "      <th>DWELL HOUR</th>\n",
       "      <th>DWELL MIN</th>\n",
       "    </tr>\n",
       "  </thead>\n",
       "  <tbody>\n",
       "    <tr>\n",
       "      <th>6264</th>\n",
       "      <td>9231058</td>\n",
       "      <td>9193704</td>\n",
       "      <td>aia-abpc-wks002</td>\n",
       "      <td>2018-01-01 10:22:00</td>\n",
       "      <td>0</td>\n",
       "      <td>InvalidFlightStateAccept</td>\n",
       "      <td>0095</td>\n",
       "      <td>TLF288</td>\n",
       "      <td>0095</td>\n",
       "      <td>OA</td>\n",
       "      <td>114</td>\n",
       "      <td>2017-12-31 11:30:00</td>\n",
       "      <td>-22.866667</td>\n",
       "      <td>-22</td>\n",
       "      <td>-52.0</td>\n",
       "    </tr>\n",
       "    <tr>\n",
       "      <th>12719</th>\n",
       "      <td>9238465</td>\n",
       "      <td>9221613</td>\n",
       "      <td>aia-abpc-wks006</td>\n",
       "      <td>2018-01-01 17:42:00</td>\n",
       "      <td>0</td>\n",
       "      <td>NaN</td>\n",
       "      <td>0044</td>\n",
       "      <td>PSTRVM</td>\n",
       "      <td>0044</td>\n",
       "      <td>GF</td>\n",
       "      <td>40</td>\n",
       "      <td>2018-01-01 16:40:00</td>\n",
       "      <td>-1.033333</td>\n",
       "      <td>-1</td>\n",
       "      <td>-2.0</td>\n",
       "    </tr>\n",
       "    <tr>\n",
       "      <th>12753</th>\n",
       "      <td>9238504</td>\n",
       "      <td>9221613</td>\n",
       "      <td>aia-abpc-wks006</td>\n",
       "      <td>2018-01-01 17:45:00</td>\n",
       "      <td>0</td>\n",
       "      <td>NaN</td>\n",
       "      <td>0034</td>\n",
       "      <td>KVPTZW</td>\n",
       "      <td>0034</td>\n",
       "      <td>GF</td>\n",
       "      <td>40</td>\n",
       "      <td>2018-01-01 16:40:00</td>\n",
       "      <td>-1.083333</td>\n",
       "      <td>-1</td>\n",
       "      <td>-5.0</td>\n",
       "    </tr>\n",
       "    <tr>\n",
       "      <th>12754</th>\n",
       "      <td>9238505</td>\n",
       "      <td>9221613</td>\n",
       "      <td>aia-abpc-wks006</td>\n",
       "      <td>2018-01-01 17:45:00</td>\n",
       "      <td>0</td>\n",
       "      <td>NaN</td>\n",
       "      <td>0033</td>\n",
       "      <td>KVPTZW</td>\n",
       "      <td>0033</td>\n",
       "      <td>GF</td>\n",
       "      <td>40</td>\n",
       "      <td>2018-01-01 16:40:00</td>\n",
       "      <td>-1.083333</td>\n",
       "      <td>-1</td>\n",
       "      <td>-5.0</td>\n",
       "    </tr>\n",
       "    <tr>\n",
       "      <th>12811</th>\n",
       "      <td>9238579</td>\n",
       "      <td>9221613</td>\n",
       "      <td>aia-abpc-wks006</td>\n",
       "      <td>2018-01-01 17:52:00</td>\n",
       "      <td>0</td>\n",
       "      <td>NaN</td>\n",
       "      <td>0004</td>\n",
       "      <td>AZSYRE</td>\n",
       "      <td>0004</td>\n",
       "      <td>GF</td>\n",
       "      <td>40</td>\n",
       "      <td>2018-01-01 16:40:00</td>\n",
       "      <td>-1.200000</td>\n",
       "      <td>-1</td>\n",
       "      <td>-12.0</td>\n",
       "    </tr>\n",
       "    <tr>\n",
       "      <th>12819</th>\n",
       "      <td>9238588</td>\n",
       "      <td>9221613</td>\n",
       "      <td>aia-abpc-wks006</td>\n",
       "      <td>2018-01-01 17:54:00</td>\n",
       "      <td>0</td>\n",
       "      <td>NaN</td>\n",
       "      <td>0037</td>\n",
       "      <td>FMGXJH</td>\n",
       "      <td>0037</td>\n",
       "      <td>GF</td>\n",
       "      <td>40</td>\n",
       "      <td>2018-01-01 16:40:00</td>\n",
       "      <td>-1.233333</td>\n",
       "      <td>-1</td>\n",
       "      <td>-14.0</td>\n",
       "    </tr>\n",
       "    <tr>\n",
       "      <th>12821</th>\n",
       "      <td>9238590</td>\n",
       "      <td>9221613</td>\n",
       "      <td>aia-abpc-wks006</td>\n",
       "      <td>2018-01-01 17:54:00</td>\n",
       "      <td>0</td>\n",
       "      <td>NaN</td>\n",
       "      <td>0036</td>\n",
       "      <td>FMGXJH</td>\n",
       "      <td>0036</td>\n",
       "      <td>GF</td>\n",
       "      <td>40</td>\n",
       "      <td>2018-01-01 16:40:00</td>\n",
       "      <td>-1.233333</td>\n",
       "      <td>-1</td>\n",
       "      <td>-14.0</td>\n",
       "    </tr>\n",
       "  </tbody>\n",
       "</table>\n",
       "</div>"
      ],
      "text/plain": [
       "            ID  FLIGHTID        LECTOR ID           CHECK DATE  STATUS  \\\n",
       "6264   9231058   9193704  aia-abpc-wks002  2018-01-01 10:22:00       0   \n",
       "12719  9238465   9221613  aia-abpc-wks006  2018-01-01 17:42:00       0   \n",
       "12753  9238504   9221613  aia-abpc-wks006  2018-01-01 17:45:00       0   \n",
       "12754  9238505   9221613  aia-abpc-wks006  2018-01-01 17:45:00       0   \n",
       "12811  9238579   9221613  aia-abpc-wks006  2018-01-01 17:52:00       0   \n",
       "12819  9238588   9221613  aia-abpc-wks006  2018-01-01 17:54:00       0   \n",
       "12821  9238590   9221613  aia-abpc-wks006  2018-01-01 17:54:00       0   \n",
       "\n",
       "                         REASON CHECKIN SEQUENCE NUMBER     PNR  \\\n",
       "6264   InvalidFlightStateAccept                    0095  TLF288   \n",
       "12719                       NaN                    0044  PSTRVM   \n",
       "12753                       NaN                    0034  KVPTZW   \n",
       "12754                       NaN                    0033  KVPTZW   \n",
       "12811                       NaN                    0004  AZSYRE   \n",
       "12819                       NaN                    0037  FMGXJH   \n",
       "12821                       NaN                    0036  FMGXJH   \n",
       "\n",
       "      DEPARTURE FLIGHT DESTINATION AIRPORT IATA CODE  \\\n",
       "6264                                            0095   \n",
       "12719                                           0044   \n",
       "12753                                           0034   \n",
       "12754                                           0033   \n",
       "12811                                           0004   \n",
       "12819                                           0037   \n",
       "12821                                           0036   \n",
       "\n",
       "      DEPARTURE FLIGHT AIRLINE IATA CODE  DEPARTURE FLIGHT NUMBER  \\\n",
       "6264                                  OA                      114   \n",
       "12719                                 GF                       40   \n",
       "12753                                 GF                       40   \n",
       "12754                                 GF                       40   \n",
       "12811                                 GF                       40   \n",
       "12819                                 GF                       40   \n",
       "12821                                 GF                       40   \n",
       "\n",
       "      DEPARTURE FLIGHT SOBT  DWELL TIME  DWELL HOUR  DWELL MIN  \n",
       "6264    2017-12-31 11:30:00  -22.866667         -22      -52.0  \n",
       "12719   2018-01-01 16:40:00   -1.033333          -1       -2.0  \n",
       "12753   2018-01-01 16:40:00   -1.083333          -1       -5.0  \n",
       "12754   2018-01-01 16:40:00   -1.083333          -1       -5.0  \n",
       "12811   2018-01-01 16:40:00   -1.200000          -1      -12.0  \n",
       "12819   2018-01-01 16:40:00   -1.233333          -1      -14.0  \n",
       "12821   2018-01-01 16:40:00   -1.233333          -1      -14.0  "
      ]
     },
     "execution_count": 33,
     "metadata": {},
     "output_type": "execute_result"
    }
   ],
   "source": [
    "abpc.loc[abpc['DWELL HOUR']<0]"
   ]
  },
  {
   "cell_type": "markdown",
   "metadata": {},
   "source": [
    "TAREAS"
   ]
  },
  {
   "cell_type": "markdown",
   "metadata": {},
   "source": [
    "Variables interesantes\n",
    "JOINS--> FLIGHTID, CODIGOS\n",
    "\n",
    "Transformaciones\n",
    "STATUS\n",
    "https://machinelearningmastery.com/how-to-one-hot-encode-sequence-data-in-python/\n"
   ]
  },
  {
   "cell_type": "markdown",
   "metadata": {},
   "source": [
    "¿Volumen de pasajeros en el tiempo? nºpassajeros vs. check date\n",
    "Calcular tiempo waiting time . nº passajeros vs. wainting time y clusterización por hora de vuelo y clase de pasajero (histograma)"
   ]
  },
  {
   "cell_type": "code",
   "execution_count": 48,
   "metadata": {},
   "outputs": [],
   "source": [
    "flight = pd.read_csv('D:\\\\Usuarios\\\\mdbrenes\\\\Documents\\\\Projects\\\\airport\\\\Documentos TT\\\\Datos de entrada\\\\FlightList\\\\FlightList_2018-01-01.csv', delimiter=';', header = 0)"
   ]
  },
  {
   "cell_type": "code",
   "execution_count": 49,
   "metadata": {},
   "outputs": [
    {
     "data": {
      "text/html": [
       "<div>\n",
       "<style scoped>\n",
       "    .dataframe tbody tr th:only-of-type {\n",
       "        vertical-align: middle;\n",
       "    }\n",
       "\n",
       "    .dataframe tbody tr th {\n",
       "        vertical-align: top;\n",
       "    }\n",
       "\n",
       "    .dataframe thead th {\n",
       "        text-align: right;\n",
       "    }\n",
       "</style>\n",
       "<table border=\"1\" class=\"dataframe\">\n",
       "  <thead>\n",
       "    <tr style=\"text-align: right;\">\n",
       "      <th></th>\n",
       "      <th>REGISTRATION</th>\n",
       "      <th>ARR ID</th>\n",
       "      <th>ARR C/S</th>\n",
       "      <th>DEP ID</th>\n",
       "      <th>DEP C/S</th>\n",
       "      <th>A/C Type ICAO</th>\n",
       "      <th>A/C Type IATA</th>\n",
       "      <th>ADEP IATA</th>\n",
       "      <th>ADEP ICAO</th>\n",
       "      <th>ADES IATA</th>\n",
       "      <th>...</th>\n",
       "      <th>CONNECTING PAX</th>\n",
       "      <th>CHECKED PAX</th>\n",
       "      <th>BOARDED PAX</th>\n",
       "      <th>SECURITY IN PAX</th>\n",
       "      <th>% SECURITY IN PAX</th>\n",
       "      <th>GROUND HANDLING AGENT</th>\n",
       "      <th>PAX ID</th>\n",
       "      <th>ASBT</th>\n",
       "      <th>AEBT</th>\n",
       "      <th>TIMESTAMP</th>\n",
       "    </tr>\n",
       "  </thead>\n",
       "  <tbody>\n",
       "    <tr>\n",
       "      <th>0</th>\n",
       "      <td>SXOBC</td>\n",
       "      <td>A3991</td>\n",
       "      <td>AEE991</td>\n",
       "      <td>OA248</td>\n",
       "      <td>OAL248</td>\n",
       "      <td>DH8D</td>\n",
       "      <td>DH4</td>\n",
       "      <td>IST</td>\n",
       "      <td>LTBA</td>\n",
       "      <td>SMI</td>\n",
       "      <td>...</td>\n",
       "      <td>NaN</td>\n",
       "      <td>NaN</td>\n",
       "      <td>NaN</td>\n",
       "      <td>NaN</td>\n",
       "      <td>NaN</td>\n",
       "      <td>NaN</td>\n",
       "      <td>NaN</td>\n",
       "      <td>NaN</td>\n",
       "      <td>NaN</td>\n",
       "      <td>01/01/2018 23:50</td>\n",
       "    </tr>\n",
       "    <tr>\n",
       "      <th>1</th>\n",
       "      <td>EIEVV</td>\n",
       "      <td>FR027</td>\n",
       "      <td>RYR027</td>\n",
       "      <td>FR028</td>\n",
       "      <td>RYR028</td>\n",
       "      <td>B738</td>\n",
       "      <td>73H</td>\n",
       "      <td>SKG</td>\n",
       "      <td>LGTS</td>\n",
       "      <td>SKG</td>\n",
       "      <td>...</td>\n",
       "      <td>NaN</td>\n",
       "      <td>NaN</td>\n",
       "      <td>NaN</td>\n",
       "      <td>132.0</td>\n",
       "      <td>84.0</td>\n",
       "      <td>NaN</td>\n",
       "      <td>NaN</td>\n",
       "      <td>01/01/2018 20:00</td>\n",
       "      <td>01/01/2018 20:46</td>\n",
       "      <td>01/01/2018 23:50</td>\n",
       "    </tr>\n",
       "    <tr>\n",
       "      <th>2</th>\n",
       "      <td>SXONE</td>\n",
       "      <td>GQ275</td>\n",
       "      <td>SEH275</td>\n",
       "      <td>GQ159</td>\n",
       "      <td>SEH159</td>\n",
       "      <td>AT75</td>\n",
       "      <td>A75</td>\n",
       "      <td>CFU</td>\n",
       "      <td>LGKR</td>\n",
       "      <td>HER</td>\n",
       "      <td>...</td>\n",
       "      <td>NaN</td>\n",
       "      <td>NaN</td>\n",
       "      <td>NaN</td>\n",
       "      <td>NaN</td>\n",
       "      <td>NaN</td>\n",
       "      <td>NaN</td>\n",
       "      <td>NaN</td>\n",
       "      <td>NaN</td>\n",
       "      <td>NaN</td>\n",
       "      <td>01/01/2018 23:50</td>\n",
       "    </tr>\n",
       "    <tr>\n",
       "      <th>3</th>\n",
       "      <td>SXGRI</td>\n",
       "      <td>GQ241</td>\n",
       "      <td>SEH241</td>\n",
       "      <td>GQ157</td>\n",
       "      <td>SEH157</td>\n",
       "      <td>AT45</td>\n",
       "      <td>AT5</td>\n",
       "      <td>JKH</td>\n",
       "      <td>LGHI</td>\n",
       "      <td>HER</td>\n",
       "      <td>...</td>\n",
       "      <td>NaN</td>\n",
       "      <td>NaN</td>\n",
       "      <td>NaN</td>\n",
       "      <td>NaN</td>\n",
       "      <td>NaN</td>\n",
       "      <td>NaN</td>\n",
       "      <td>NaN</td>\n",
       "      <td>NaN</td>\n",
       "      <td>NaN</td>\n",
       "      <td>01/01/2018 23:50</td>\n",
       "    </tr>\n",
       "    <tr>\n",
       "      <th>4</th>\n",
       "      <td>NaN</td>\n",
       "      <td>A3655</td>\n",
       "      <td>NaN</td>\n",
       "      <td>OA344</td>\n",
       "      <td>NaN</td>\n",
       "      <td>NaN</td>\n",
       "      <td>321</td>\n",
       "      <td>FCO</td>\n",
       "      <td>NaN</td>\n",
       "      <td>CHQ</td>\n",
       "      <td>...</td>\n",
       "      <td>NaN</td>\n",
       "      <td>NaN</td>\n",
       "      <td>NaN</td>\n",
       "      <td>NaN</td>\n",
       "      <td>NaN</td>\n",
       "      <td>NaN</td>\n",
       "      <td>NaN</td>\n",
       "      <td>NaN</td>\n",
       "      <td>NaN</td>\n",
       "      <td>01/01/2018 23:50</td>\n",
       "    </tr>\n",
       "  </tbody>\n",
       "</table>\n",
       "<p>5 rows × 55 columns</p>\n",
       "</div>"
      ],
      "text/plain": [
       "  REGISTRATION ARR ID ARR C/S DEP ID DEP C/S A/C Type ICAO A/C Type IATA  \\\n",
       "0        SXOBC  A3991  AEE991  OA248  OAL248          DH8D           DH4   \n",
       "1        EIEVV  FR027  RYR027  FR028  RYR028          B738           73H   \n",
       "2        SXONE  GQ275  SEH275  GQ159  SEH159          AT75           A75   \n",
       "3        SXGRI  GQ241  SEH241  GQ157  SEH157          AT45           AT5   \n",
       "4          NaN  A3655     NaN  OA344     NaN           NaN           321   \n",
       "\n",
       "  ADEP IATA ADEP ICAO ADES IATA  ... CONNECTING PAX CHECKED PAX BOARDED PAX  \\\n",
       "0       IST      LTBA       SMI  ...            NaN         NaN         NaN   \n",
       "1       SKG      LGTS       SKG  ...            NaN         NaN         NaN   \n",
       "2       CFU      LGKR       HER  ...            NaN         NaN         NaN   \n",
       "3       JKH      LGHI       HER  ...            NaN         NaN         NaN   \n",
       "4       FCO       NaN       CHQ  ...            NaN         NaN         NaN   \n",
       "\n",
       "  SECURITY IN PAX   % SECURITY IN PAX  GROUND HANDLING AGENT PAX ID  \\\n",
       "0             NaN                 NaN                    NaN    NaN   \n",
       "1           132.0                84.0                    NaN    NaN   \n",
       "2             NaN                 NaN                    NaN    NaN   \n",
       "3             NaN                 NaN                    NaN    NaN   \n",
       "4             NaN                 NaN                    NaN    NaN   \n",
       "\n",
       "               ASBT              AEBT         TIMESTAMP  \n",
       "0               NaN               NaN  01/01/2018 23:50  \n",
       "1  01/01/2018 20:00  01/01/2018 20:46  01/01/2018 23:50  \n",
       "2               NaN               NaN  01/01/2018 23:50  \n",
       "3               NaN               NaN  01/01/2018 23:50  \n",
       "4               NaN               NaN  01/01/2018 23:50  \n",
       "\n",
       "[5 rows x 55 columns]"
      ]
     },
     "execution_count": 49,
     "metadata": {},
     "output_type": "execute_result"
    }
   ],
   "source": [
    "flight.head()"
   ]
  },
  {
   "cell_type": "code",
   "execution_count": 58,
   "metadata": {},
   "outputs": [
    {
     "data": {
      "text/html": [
       "<div>\n",
       "<style scoped>\n",
       "    .dataframe tbody tr th:only-of-type {\n",
       "        vertical-align: middle;\n",
       "    }\n",
       "\n",
       "    .dataframe tbody tr th {\n",
       "        vertical-align: top;\n",
       "    }\n",
       "\n",
       "    .dataframe thead th {\n",
       "        text-align: right;\n",
       "    }\n",
       "</style>\n",
       "<table border=\"1\" class=\"dataframe\">\n",
       "  <thead>\n",
       "    <tr style=\"text-align: right;\">\n",
       "      <th></th>\n",
       "      <th>REGISTRATION</th>\n",
       "      <th>ARR ID</th>\n",
       "      <th>ARR C/S</th>\n",
       "      <th>DEP ID</th>\n",
       "      <th>DEP C/S</th>\n",
       "      <th>A/C Type ICAO</th>\n",
       "      <th>A/C Type IATA</th>\n",
       "      <th>ADEP IATA</th>\n",
       "      <th>ADEP ICAO</th>\n",
       "      <th>ADES IATA</th>\n",
       "      <th>ADES ICAO</th>\n",
       "      <th>STATUS</th>\n",
       "    </tr>\n",
       "  </thead>\n",
       "  <tbody>\n",
       "  </tbody>\n",
       "</table>\n",
       "</div>"
      ],
      "text/plain": [
       "Empty DataFrame\n",
       "Columns: [REGISTRATION, ARR ID, ARR C/S, DEP ID, DEP C/S, A/C Type ICAO, A/C Type IATA, ADEP IATA, ADEP ICAO, ADES IATA, ADES ICAO, STATUS]\n",
       "Index: []"
      ]
     },
     "execution_count": 58,
     "metadata": {},
     "output_type": "execute_result"
    }
   ],
   "source": [
    "# ID / ESTADO\n",
    "\n",
    "#flight.loc[flight['SOBT']=='01/01/2018 16:40'].iloc[:,0:12]\n",
    "\n",
    "#flight.loc[flight['SOBT']=='01/01/2018 06:40'].iloc[:,0:12]\n",
    "flight.loc[flight['DEP ID']=='A3926'].iloc[:,0:12]\n"
   ]
  },
  {
   "cell_type": "code",
   "execution_count": 59,
   "metadata": {},
   "outputs": [
    {
     "data": {
      "text/html": [
       "<div>\n",
       "<style scoped>\n",
       "    .dataframe tbody tr th:only-of-type {\n",
       "        vertical-align: middle;\n",
       "    }\n",
       "\n",
       "    .dataframe tbody tr th {\n",
       "        vertical-align: top;\n",
       "    }\n",
       "\n",
       "    .dataframe thead th {\n",
       "        text-align: right;\n",
       "    }\n",
       "</style>\n",
       "<table border=\"1\" class=\"dataframe\">\n",
       "  <thead>\n",
       "    <tr style=\"text-align: right;\">\n",
       "      <th></th>\n",
       "      <th>DCD1</th>\n",
       "      <th>DCD2</th>\n",
       "      <th>DTD1</th>\n",
       "      <th>DTD2</th>\n",
       "      <th>SLDT</th>\n",
       "      <th>ELDT</th>\n",
       "    </tr>\n",
       "  </thead>\n",
       "  <tbody>\n",
       "  </tbody>\n",
       "</table>\n",
       "</div>"
      ],
      "text/plain": [
       "Empty DataFrame\n",
       "Columns: [DCD1, DCD2, DTD1, DTD2, SLDT, ELDT]\n",
       "Index: []"
      ]
     },
     "execution_count": 59,
     "metadata": {},
     "output_type": "execute_result"
    }
   ],
   "source": [
    "# RETRASO\n",
    "\n",
    "#flight.loc[flight['SOBT']=='01/01/2018 16:40'].iloc[:,12:18]\n",
    "\n",
    "flight.loc[flight['DEP ID']=='A3926'].iloc[:,12:18]"
   ]
  },
  {
   "cell_type": "code",
   "execution_count": 67,
   "metadata": {},
   "outputs": [
    {
     "data": {
      "text/html": [
       "<div>\n",
       "<style scoped>\n",
       "    .dataframe tbody tr th:only-of-type {\n",
       "        vertical-align: middle;\n",
       "    }\n",
       "\n",
       "    .dataframe tbody tr th {\n",
       "        vertical-align: top;\n",
       "    }\n",
       "\n",
       "    .dataframe thead th {\n",
       "        text-align: right;\n",
       "    }\n",
       "</style>\n",
       "<table border=\"1\" class=\"dataframe\">\n",
       "  <thead>\n",
       "    <tr style=\"text-align: right;\">\n",
       "      <th></th>\n",
       "      <th>SOBT</th>\n",
       "      <th>EOBT</th>\n",
       "      <th>TOBT</th>\n",
       "      <th>AOBT</th>\n",
       "    </tr>\n",
       "  </thead>\n",
       "  <tbody>\n",
       "  </tbody>\n",
       "</table>\n",
       "</div>"
      ],
      "text/plain": [
       "Empty DataFrame\n",
       "Columns: [SOBT, EOBT, TOBT, AOBT]\n",
       "Index: []"
      ]
     },
     "execution_count": 67,
     "metadata": {},
     "output_type": "execute_result"
    }
   ],
   "source": [
    "# Salir del parking\n",
    "\n",
    "flight.loc[flight['SOBT']=='02/01/2018 05:30'].iloc[:,25:29]\n",
    "\n",
    "#flight.loc[flight['DEP ID']=='A3926'].iloc[:,25:29]"
   ]
  },
  {
   "cell_type": "code",
   "execution_count": 30,
   "metadata": {},
   "outputs": [
    {
     "data": {
      "text/plain": [
       "Index(['REGISTRATION', 'ARR ID', 'ARR C/S', 'DEP ID', 'DEP C/S',\n",
       "       'A/C Type ICAO', 'A/C Type IATA', 'ADEP IATA', 'ADEP ICAO', 'ADES IATA',\n",
       "       'ADES ICAO', 'STATUS', 'DCD1', 'DCD2', 'DTD1', 'DTD2', 'SLDT', 'ELDT',\n",
       "       'TLDT', 'ALDT', 'SIBT', 'EIBT', 'AIBT', 'PK', 'GATE', 'SOBT', 'EOBT',\n",
       "       'TOBT', 'AOBT', 'STOT', 'ETOT', 'TTOT', 'CTOT', 'ATOT', 'TTOT-IN',\n",
       "       'CTOT-IN', 'AREG+', 'DREG+', 'ATOT-IN', 'ETOT-IN', 'EOBT-IN',\n",
       "       'TOBT-PAX', 'TIME AT GATE', 'MAX PAX', 'ESTIMATED PAX',\n",
       "       'CONNECTING PAX', 'CHECKED PAX', 'BOARDED PAX', 'SECURITY IN PAX',\n",
       "       ' % SECURITY IN PAX', 'GROUND HANDLING AGENT', 'PAX ID', 'ASBT', 'AEBT',\n",
       "       'TIMESTAMP'],\n",
       "      dtype='object')"
      ]
     },
     "execution_count": 30,
     "metadata": {},
     "output_type": "execute_result"
    }
   ],
   "source": [
    "flight.columns"
   ]
  },
  {
   "cell_type": "code",
   "execution_count": 31,
   "metadata": {
    "scrolled": false
   },
   "outputs": [
    {
     "name": "stdout",
     "output_type": "stream",
     "text": [
      "<class 'pandas.core.frame.DataFrame'>\n",
      "RangeIndex: 260 entries, 0 to 259\n",
      "Data columns (total 55 columns):\n",
      "REGISTRATION             196 non-null object\n",
      "ARR ID                   260 non-null object\n",
      "ARR C/S                  200 non-null object\n",
      "DEP ID                   260 non-null object\n",
      "DEP C/S                  165 non-null object\n",
      "A/C Type ICAO            201 non-null object\n",
      "A/C Type IATA            260 non-null object\n",
      "ADEP IATA                259 non-null object\n",
      "ADEP ICAO                200 non-null object\n",
      "ADES IATA                259 non-null object\n",
      "ADES ICAO                200 non-null object\n",
      "STATUS                   260 non-null object\n",
      "DCD1                     7 non-null object\n",
      "DCD2                     2 non-null object\n",
      "DTD1                     7 non-null float64\n",
      "DTD2                     3 non-null float64\n",
      "SLDT                     260 non-null object\n",
      "ELDT                     200 non-null object\n",
      "TLDT                     0 non-null float64\n",
      "ALDT                     104 non-null object\n",
      "SIBT                     260 non-null object\n",
      "EIBT                     260 non-null object\n",
      "AIBT                     104 non-null object\n",
      "PK                       260 non-null object\n",
      "GATE                     250 non-null object\n",
      "SOBT                     260 non-null object\n",
      "EOBT                     165 non-null object\n",
      "TOBT                     201 non-null object\n",
      "AOBT                     62 non-null object\n",
      "STOT                     260 non-null object\n",
      "ETOT                     165 non-null object\n",
      "TTOT                     0 non-null float64\n",
      "CTOT                     3 non-null object\n",
      "ATOT                     62 non-null object\n",
      "TTOT-IN                  35 non-null object\n",
      "CTOT-IN                  4 non-null object\n",
      "AREG+                    4 non-null object\n",
      "DREG+                    3 non-null object\n",
      "ATOT-IN                  108 non-null object\n",
      "ETOT-IN                  200 non-null object\n",
      "EOBT-IN                  200 non-null object\n",
      "TOBT-PAX                 49 non-null object\n",
      "TIME AT GATE             49 non-null object\n",
      "MAX PAX                  255 non-null float64\n",
      "ESTIMATED PAX            55 non-null float64\n",
      "CONNECTING PAX           0 non-null float64\n",
      "CHECKED PAX              28 non-null float64\n",
      "BOARDED PAX              28 non-null float64\n",
      "SECURITY IN PAX          73 non-null float64\n",
      " % SECURITY IN PAX       72 non-null float64\n",
      "GROUND HANDLING AGENT    24 non-null object\n",
      "PAX ID                   0 non-null float64\n",
      "ASBT                     61 non-null object\n",
      "AEBT                     61 non-null object\n",
      "TIMESTAMP                260 non-null object\n",
      "dtypes: float64(12), object(43)\n",
      "memory usage: 111.8+ KB\n"
     ]
    }
   ],
   "source": [
    "flight.info()"
   ]
  },
  {
   "cell_type": "markdown",
   "metadata": {},
   "source": [
    "INVESTIGAR POR QUÉ HAY MUY POCAS VARIABLES DE ALGUNAS VARIABLES. ¿CUANDO APLICA USAR UNA U OTRA?"
   ]
  },
  {
   "cell_type": "code",
   "execution_count": null,
   "metadata": {},
   "outputs": [],
   "source": []
  },
  {
   "cell_type": "code",
   "execution_count": null,
   "metadata": {},
   "outputs": [],
   "source": []
  },
  {
   "cell_type": "code",
   "execution_count": 62,
   "metadata": {},
   "outputs": [],
   "source": [
    "flight_2 = pd.read_csv('D:\\\\Usuarios\\\\mdbrenes\\\\Documents\\\\Projects\\\\airport\\\\Documentos TT\\\\Datos de entrada\\\\FlightList\\\\FlightList_2018-01-02.csv', delimiter=';', header = 0)"
   ]
  },
  {
   "cell_type": "code",
   "execution_count": 65,
   "metadata": {},
   "outputs": [
    {
     "data": {
      "text/html": [
       "<div>\n",
       "<style scoped>\n",
       "    .dataframe tbody tr th:only-of-type {\n",
       "        vertical-align: middle;\n",
       "    }\n",
       "\n",
       "    .dataframe tbody tr th {\n",
       "        vertical-align: top;\n",
       "    }\n",
       "\n",
       "    .dataframe thead th {\n",
       "        text-align: right;\n",
       "    }\n",
       "</style>\n",
       "<table border=\"1\" class=\"dataframe\">\n",
       "  <thead>\n",
       "    <tr style=\"text-align: right;\">\n",
       "      <th></th>\n",
       "      <th>SOBT</th>\n",
       "      <th>EOBT</th>\n",
       "      <th>TOBT</th>\n",
       "      <th>AOBT</th>\n",
       "    </tr>\n",
       "  </thead>\n",
       "  <tbody>\n",
       "    <tr>\n",
       "      <th>236</th>\n",
       "      <td>03/01/2018 15:00</td>\n",
       "      <td>NaN</td>\n",
       "      <td>03/01/2018 15:00</td>\n",
       "      <td>NaN</td>\n",
       "    </tr>\n",
       "  </tbody>\n",
       "</table>\n",
       "</div>"
      ],
      "text/plain": [
       "                 SOBT EOBT              TOBT AOBT\n",
       "236  03/01/2018 15:00  NaN  03/01/2018 15:00  NaN"
      ]
     },
     "execution_count": 65,
     "metadata": {},
     "output_type": "execute_result"
    }
   ],
   "source": [
    "# Salir del parking\n",
    "\n",
    "flight_2.loc[flight_2['DEP ID']=='A3926'].iloc[:,25:29]"
   ]
  },
  {
   "cell_type": "code",
   "execution_count": null,
   "metadata": {},
   "outputs": [],
   "source": []
  }
 ],
 "metadata": {
  "kernelspec": {
   "display_name": "Python 3",
   "language": "python",
   "name": "python3"
  },
  "language_info": {
   "codemirror_mode": {
    "name": "ipython",
    "version": 3
   },
   "file_extension": ".py",
   "mimetype": "text/x-python",
   "name": "python",
   "nbconvert_exporter": "python",
   "pygments_lexer": "ipython3",
   "version": "3.6.7"
  }
 },
 "nbformat": 4,
 "nbformat_minor": 2
}
